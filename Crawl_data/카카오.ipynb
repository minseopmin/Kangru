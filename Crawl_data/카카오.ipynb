{
 "cells": [
  {
   "cell_type": "code",
   "execution_count": null,
   "id": "2ee0fe6a",
   "metadata": {},
   "outputs": [],
   "source": []
  },
  {
   "cell_type": "code",
   "execution_count": 84,
   "id": "bd331ab1",
   "metadata": {},
   "outputs": [
    {
     "name": "stderr",
     "output_type": "stream",
     "text": [
      "/var/folders/9r/cd38qm7s7wj0c5qkn04q739r0000gn/T/ipykernel_1617/1572680200.py:20: DeprecationWarning: executable_path has been deprecated, please pass in a Service object\n",
      "  driver=webdriver.Chrome(executable_path=ChromeDriverManager().install(), options=options)\n"
     ]
    },
    {
     "name": "stdout",
     "output_type": "stream",
     "text": [
      "0\n",
      "1\n",
      "2\n",
      "3\n",
      "모든 데이터 크롤링\n",
      "total data :61 but61\n"
     ]
    },
    {
     "name": "stderr",
     "output_type": "stream",
     "text": [
      "/var/folders/9r/cd38qm7s7wj0c5qkn04q739r0000gn/T/ipykernel_1617/1572680200.py:20: DeprecationWarning: executable_path has been deprecated, please pass in a Service object\n",
      "  driver=webdriver.Chrome(executable_path=ChromeDriverManager().install(), options=options)\n"
     ]
    },
    {
     "name": "stdout",
     "output_type": "stream",
     "text": [
      "0\n",
      "1\n",
      "2\n",
      "모든 데이터 크롤링\n",
      "total data :48 but48\n"
     ]
    },
    {
     "name": "stderr",
     "output_type": "stream",
     "text": [
      "/var/folders/9r/cd38qm7s7wj0c5qkn04q739r0000gn/T/ipykernel_1617/1572680200.py:20: DeprecationWarning: executable_path has been deprecated, please pass in a Service object\n",
      "  driver=webdriver.Chrome(executable_path=ChromeDriverManager().install(), options=options)\n"
     ]
    },
    {
     "name": "stdout",
     "output_type": "stream",
     "text": [
      "0\n",
      "1\n",
      "모든 데이터 크롤링\n",
      "total data :42 but42\n"
     ]
    },
    {
     "name": "stderr",
     "output_type": "stream",
     "text": [
      "/var/folders/9r/cd38qm7s7wj0c5qkn04q739r0000gn/T/ipykernel_1617/1572680200.py:20: DeprecationWarning: executable_path has been deprecated, please pass in a Service object\n",
      "  driver=webdriver.Chrome(executable_path=ChromeDriverManager().install(), options=options)\n"
     ]
    },
    {
     "name": "stdout",
     "output_type": "stream",
     "text": [
      "0\n",
      "1\n",
      "모든 데이터 크롤링\n",
      "total data :41 but41\n"
     ]
    },
    {
     "name": "stderr",
     "output_type": "stream",
     "text": [
      "/var/folders/9r/cd38qm7s7wj0c5qkn04q739r0000gn/T/ipykernel_1617/1572680200.py:20: DeprecationWarning: executable_path has been deprecated, please pass in a Service object\n",
      "  driver=webdriver.Chrome(executable_path=ChromeDriverManager().install(), options=options)\n"
     ]
    },
    {
     "name": "stdout",
     "output_type": "stream",
     "text": [
      "0\n",
      "1\n",
      "2\n",
      "3\n",
      "4\n",
      "5\n",
      "모든 데이터 크롤링\n",
      "total data :98 but98\n"
     ]
    },
    {
     "name": "stderr",
     "output_type": "stream",
     "text": [
      "/var/folders/9r/cd38qm7s7wj0c5qkn04q739r0000gn/T/ipykernel_1617/1572680200.py:20: DeprecationWarning: executable_path has been deprecated, please pass in a Service object\n",
      "  driver=webdriver.Chrome(executable_path=ChromeDriverManager().install(), options=options)\n"
     ]
    },
    {
     "name": "stdout",
     "output_type": "stream",
     "text": [
      "0\n",
      "1\n",
      "2\n",
      "3\n",
      "4\n",
      "5\n",
      "6\n",
      "7\n",
      "8\n",
      "9\n",
      "total data :150 but150\n"
     ]
    },
    {
     "name": "stderr",
     "output_type": "stream",
     "text": [
      "/var/folders/9r/cd38qm7s7wj0c5qkn04q739r0000gn/T/ipykernel_1617/1572680200.py:20: DeprecationWarning: executable_path has been deprecated, please pass in a Service object\n",
      "  driver=webdriver.Chrome(executable_path=ChromeDriverManager().install(), options=options)\n"
     ]
    },
    {
     "name": "stdout",
     "output_type": "stream",
     "text": [
      "0\n",
      "1\n",
      "2\n",
      "3\n",
      "4\n",
      "5\n",
      "6\n",
      "7\n",
      "8\n",
      "9\n",
      "10\n",
      "11\n",
      "12\n",
      "13\n",
      "14\n",
      "15\n",
      "16\n",
      "17\n",
      "18\n",
      "19\n",
      "20\n",
      "21\n",
      "22\n",
      "23\n",
      "24\n",
      "25\n",
      "모든 데이터 크롤링\n",
      "total data :404 but404\n"
     ]
    },
    {
     "name": "stderr",
     "output_type": "stream",
     "text": [
      "/var/folders/9r/cd38qm7s7wj0c5qkn04q739r0000gn/T/ipykernel_1617/1572680200.py:20: DeprecationWarning: executable_path has been deprecated, please pass in a Service object\n",
      "  driver=webdriver.Chrome(executable_path=ChromeDriverManager().install(), options=options)\n"
     ]
    },
    {
     "name": "stdout",
     "output_type": "stream",
     "text": [
      "0\n",
      "모든 데이터 크롤링\n",
      "total data :25 but25\n"
     ]
    },
    {
     "name": "stderr",
     "output_type": "stream",
     "text": [
      "/var/folders/9r/cd38qm7s7wj0c5qkn04q739r0000gn/T/ipykernel_1617/1572680200.py:20: DeprecationWarning: executable_path has been deprecated, please pass in a Service object\n",
      "  driver=webdriver.Chrome(executable_path=ChromeDriverManager().install(), options=options)\n"
     ]
    },
    {
     "name": "stdout",
     "output_type": "stream",
     "text": [
      "0\n",
      "1\n",
      "모든 데이터 크롤링\n",
      "total data :38 but38\n"
     ]
    },
    {
     "name": "stderr",
     "output_type": "stream",
     "text": [
      "/var/folders/9r/cd38qm7s7wj0c5qkn04q739r0000gn/T/ipykernel_1617/1572680200.py:20: DeprecationWarning: executable_path has been deprecated, please pass in a Service object\n",
      "  driver=webdriver.Chrome(executable_path=ChromeDriverManager().install(), options=options)\n"
     ]
    },
    {
     "name": "stdout",
     "output_type": "stream",
     "text": [
      "0\n",
      "1\n",
      "2\n",
      "3\n",
      "4\n",
      "모든 데이터 크롤링\n",
      "total data :86 but86\n"
     ]
    },
    {
     "name": "stderr",
     "output_type": "stream",
     "text": [
      "/var/folders/9r/cd38qm7s7wj0c5qkn04q739r0000gn/T/ipykernel_1617/1572680200.py:20: DeprecationWarning: executable_path has been deprecated, please pass in a Service object\n",
      "  driver=webdriver.Chrome(executable_path=ChromeDriverManager().install(), options=options)\n"
     ]
    },
    {
     "name": "stdout",
     "output_type": "stream",
     "text": [
      "0\n",
      "1\n",
      "모든 데이터 크롤링\n",
      "total data :41 but41\n"
     ]
    },
    {
     "name": "stderr",
     "output_type": "stream",
     "text": [
      "/var/folders/9r/cd38qm7s7wj0c5qkn04q739r0000gn/T/ipykernel_1617/1572680200.py:20: DeprecationWarning: executable_path has been deprecated, please pass in a Service object\n",
      "  driver=webdriver.Chrome(executable_path=ChromeDriverManager().install(), options=options)\n"
     ]
    },
    {
     "name": "stdout",
     "output_type": "stream",
     "text": [
      "0\n",
      "1\n",
      "2\n",
      "3\n",
      "4\n",
      "5\n",
      "6\n",
      "7\n",
      "8\n",
      "9\n",
      "10\n",
      "11\n",
      "12\n",
      "13\n",
      "모든 데이터 크롤링\n",
      "total data :213 but213\n"
     ]
    },
    {
     "name": "stderr",
     "output_type": "stream",
     "text": [
      "/var/folders/9r/cd38qm7s7wj0c5qkn04q739r0000gn/T/ipykernel_1617/1572680200.py:20: DeprecationWarning: executable_path has been deprecated, please pass in a Service object\n",
      "  driver=webdriver.Chrome(executable_path=ChromeDriverManager().install(), options=options)\n"
     ]
    },
    {
     "name": "stdout",
     "output_type": "stream",
     "text": [
      "0\n",
      "1\n",
      "2\n",
      "모든 데이터 크롤링\n",
      "total data :55 but55\n"
     ]
    },
    {
     "name": "stderr",
     "output_type": "stream",
     "text": [
      "/var/folders/9r/cd38qm7s7wj0c5qkn04q739r0000gn/T/ipykernel_1617/1572680200.py:20: DeprecationWarning: executable_path has been deprecated, please pass in a Service object\n",
      "  driver=webdriver.Chrome(executable_path=ChromeDriverManager().install(), options=options)\n"
     ]
    },
    {
     "name": "stdout",
     "output_type": "stream",
     "text": [
      "0\n",
      "1\n",
      "2\n",
      "3\n",
      "4\n",
      "5\n",
      "6\n",
      "7\n",
      "모든 데이터 크롤링\n",
      "total data :129 but129\n"
     ]
    }
   ],
   "source": [
    "import time\n",
    "from bs4 import BeautifulSoup\n",
    "from selenium import webdriver\n",
    "from selenium.webdriver.common.by import By\n",
    "from selenium.webdriver.common.keys import Keys\n",
    "from selenium.webdriver.support.ui import WebDriverWait\n",
    "from selenium.webdriver.support import expected_conditions as EC\n",
    "from selenium.webdriver.chrome.options import Options\n",
    "from selenium.webdriver.chrome.service import Service\n",
    "from webdriver_manager.chrome import ChromeDriverManager\n",
    "import pandas as pd\n",
    "\n",
    "\n",
    "    \n",
    "def Kakao_data(food,area):\n",
    "    options = Options()\n",
    "    options.add_experimental_option('excludeSwitches', ['--proxy-server'])\n",
    "    options.add_argument('--no-sandbox')\n",
    "    options.add_argument('--disable-dev-shm-usage')\n",
    "    driver=webdriver.Chrome(executable_path=ChromeDriverManager().install(), options=options)\n",
    "    driver.maximize_window()\n",
    "    driver.get(\"https://map.kakao.com/\")\n",
    "    search_box = driver.find_element(By.XPATH, '//*[@id=\"search.keyword.query\"]')\n",
    "    search_box.send_keys(f\"{area}의 {food}\")\n",
    "    search_box.send_keys(Keys.ENTER)\n",
    "    wait = WebDriverWait(driver, 10)\n",
    "    wait.until(EC.presence_of_element_located((By.XPATH, '//*[@id=\"info.search.place.list\"]')))\n",
    "    time.sleep(3)\n",
    "    #장소명으로 검색 옵션\n",
    "    try:\n",
    "        locationsearch =driver.find_element(By.XPATH, '//*[@id=\"info.searchHeader.message\"]/div/div[2]/a')\n",
    "        time.sleep(3)\n",
    "        driver.execute_script(\"arguments[0].click();\", locationsearch)\n",
    "        time.sleep(3)\n",
    "    except:\n",
    "        pass\n",
    "    \n",
    "    totalnum=driver.find_element(By.XPATH,'//*[@id=\"info.search.place.cnt\"]').text\n",
    "    totallist=range(1,int(totalnum)+1)\n",
    "    #new_link = driver.find_elements(By.CSS_SELECTOR,//*[@id=\"info.search.place.list\"]/li[1]/div[5]/div[4]/a[1])\n",
    "    k=0\n",
    "    l=0\n",
    "    scorelist=[]\n",
    "    storelist=[]\n",
    "    phonelist=[]\n",
    "    reviewlist=[]\n",
    "    addresslist=[]\n",
    "    phonelist=[]\n",
    "    nextpage=[4,9,14,19,24,29,34]\n",
    "    \n",
    "    for i in totallist:\n",
    "        i=i-15*k\n",
    "        score_xpath='//*[@id=\"info.search.place.list\"]/li['+str(i)+']/div[4]/span[1]/em'\n",
    "        store_xpath='//*[@id=\"info.search.place.list\"]/li['+str(i)+']/div[3]/strong/a[2]'\n",
    "        review_xpath='//*[@id=\"info.search.place.list\"]/li['+str(i)+']/div[4]/span[1]/a'\n",
    "        address_xpath='//*[@id=\"info.search.place.list\"]/li['+str(i)+']/div[5]/div[2]/p[1]'\n",
    "        phone_xpath='//*[@id=\"info.search.place.list\"]/li['+str(i)+']/div[5]/div[4]/span[1]'\n",
    "        try:\n",
    "            score=driver.find_element(By.XPATH,score_xpath).text\n",
    "        except:\n",
    "            score='error'\n",
    "        try:\n",
    "            store=driver.find_element(By.XPATH,store_xpath).text\n",
    "        except:\n",
    "            store='error'\n",
    "        try:\n",
    "            review=driver.find_element(By.XPATH,review_xpath).text\n",
    "        except:\n",
    "            review='error'\n",
    "        try:\n",
    "            address=driver.find_element(By.XPATH,address_xpath).text\n",
    "        except:\n",
    "            address='error'\n",
    "        try:\n",
    "            phone=driver.find_element(By.XPATH,phone_xpath).text\n",
    "        except:\n",
    "            phone='error'\n",
    "            \n",
    "        \n",
    "        scorelist.append(score)\n",
    "        storelist.append(store)\n",
    "        reviewlist.append(review)\n",
    "        addresslist.append(address)\n",
    "        phonelist.append(phone)\n",
    "        if(len(scorelist)==15*(k+1)):\n",
    "            if(k==0):\n",
    "                moreinfo_selector='//*[@id=\"info.search.place.more\"]'\n",
    "            elif(k in nextpage):\n",
    "                moreinfo_selector='//*[@id=\"info.search.page.next\"]'\n",
    "                l=l+1\n",
    "            elif(k>35):\n",
    "                break\n",
    "            else:\n",
    "                moreinfo_selector='//*[@id=\"info.search.page.no'+str(k+2-5*l)+'\"]'\n",
    "            moreinfo =driver.find_element(By.XPATH, moreinfo_selector)\n",
    "            time.sleep(3)\n",
    "            driver.execute_script(\"arguments[0].click();\",moreinfo)\n",
    "            time.sleep(3)\n",
    "            print(k)\n",
    "            k=k+1;\n",
    "        elif(len(scorelist)==len(totallist)):\n",
    "            print(\"모든 데이터 크롤링\")\n",
    "            \n",
    "        else:\n",
    "            pass\n",
    "        \n",
    "        \n",
    "    print(\"total data :\"+str(totalnum)+\" but\"+str(len(scorelist)))\n",
    "    df = pd.DataFrame({'Store':storelist,'score':scorelist,'comment':reviewlist,'address':addresslist,'phone_num':phonelist})\n",
    "    driver.quit()\n",
    "    return df\n",
    "            \n",
    "\n",
    "\n",
    "    \n",
    "loc_list=['서울 강남']\n",
    "food_list=['감자탕','닭갈비','삼계탕','설렁탕','부대찌개','족발','치킨','파전','갈비찜','김치찌개','육회','떡볶이','불고기','삼겹살']\n",
    "\n",
    "for loc in loc_list:\n",
    "    for food in food_list:\n",
    "        Kakao_data(food,loc).to_csv(loc+food+'.csv')\n",
    "    \n",
    "    "
   ]
  },
  {
   "cell_type": "code",
   "execution_count": 92,
   "id": "78375193",
   "metadata": {},
   "outputs": [
    {
     "name": "stdout",
     "output_type": "stream",
     "text": [
      "서울 강남육회.csv\n",
      "서울 명동삼계탕.csv\n",
      "서울 강남부대찌개.csv\n",
      "서울 강남갈비찜.csv\n",
      "서울 명동치킨.csv\n",
      "서울 강남삼계탕.csv\n",
      "서울 강남파전.csv\n",
      "서울 명동갈비찜.csv\n",
      "서울 명동부대찌개.csv\n",
      "서울 명동불고기.csv\n",
      "서울 강남설렁탕.csv\n",
      "서울 명동감자탕.csv\n",
      "서울 명동설렁탕.csv\n",
      "서울 강남떡볶이.csv\n",
      "서울 강남족발.csv\n",
      "서울 강남김치찌개.csv\n",
      "서울 명동김치찌개.csv\n",
      "서울 명동육회.csv\n",
      "서울 명동닭갈비.csv\n",
      "서울 강남불고기.csv\n",
      "서울 강남감자탕.csv\n",
      "서울 강남닭갈비.csv\n",
      "서울 명동파전.csv\n",
      "서울 명동삼겹살.csv\n",
      "서울 명동족발.csv\n",
      "서울 강남삼겹살.csv\n",
      "서울 명동떡볶이.csv\n",
      "서울 강남치킨.csv\n"
     ]
    }
   ],
   "source": [
    "import pandas as pd\n",
    "import glob\n",
    "import chardet\n",
    "from io import StringIO\n",
    "import unicodedata\n",
    "\n",
    "filelist=glob.glob('*')\n",
    "csvlist=[]\n",
    "\n",
    "\n",
    "for i in filelist:\n",
    "    if i.endswith('.csv') and not i.endswith('a.csv'):\n",
    "        print(i)\n",
    "        df=pd.read_csv(i,encoding='UTF-8',sep=',',header=0,index_col=0)\n",
    "        uni1 = unicodedata.normalize('NFD',i)\n",
    "        uni2 = unicodedata.normalize('NFC',uni1)\n",
    "        #df=pd.read_csv(i,encoding='cp949',sep=',',header=0,index_col=0)\n",
    "        uni3 = uni2[:5]\n",
    "        df['keyword_food']=uni2.strip().strip(\".csv\").strip(uni3)\n",
    "        df['keyword_loc']=uni3\n",
    "        df = df[~df['Store'].str.contains(\"error\", na=False, case=False)]\n",
    "        df = df[~(df['score'].isnull())]\n",
    "        df = df[~(df['score'] == 0.0)]\n",
    "        df = df[~df['comment'].str.contains(\"0건\", na=False, case=False)]\n",
    "        df['comment'] = df['comment'].str.replace('건','')\n",
    "        df = df.astype({'comment':'int'})\n",
    "        df=df[df['comment']>=10]\n",
    "        csvlist.append(df)\n",
    "\n",
    "dftotal=pd.concat(csvlist,axis=0,ignore_index=True)\n",
    "\n",
    "dftotal.to_csv('Kakao_data.csv',index=True)"
   ]
  },
  {
   "cell_type": "code",
   "execution_count": null,
   "id": "b25f303e",
   "metadata": {},
   "outputs": [],
   "source": []
  },
  {
   "cell_type": "code",
   "execution_count": null,
   "id": "bbc717ba",
   "metadata": {},
   "outputs": [],
   "source": []
  }
 ],
 "metadata": {
  "kernelspec": {
   "display_name": "Python 3 (ipykernel)",
   "language": "python",
   "name": "python3"
  },
  "language_info": {
   "codemirror_mode": {
    "name": "ipython",
    "version": 3
   },
   "file_extension": ".py",
   "mimetype": "text/x-python",
   "name": "python",
   "nbconvert_exporter": "python",
   "pygments_lexer": "ipython3",
   "version": "3.11.2"
  }
 },
 "nbformat": 4,
 "nbformat_minor": 5
}
